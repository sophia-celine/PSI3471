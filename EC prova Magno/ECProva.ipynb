{
 "cells": [
  {
   "cell_type": "markdown",
   "metadata": {},
   "source": [
    "# Avaliação - Parte Prática\n",
    "\n",
    "PSI3471 - Fundamentos de Sistemas Eletrônicos Inteligentes (2024)\n",
    "\n",
    "Sophia Celine Rafael Alves Pereira \n",
    "\n",
    "NºUSP 11803994"
   ]
  },
  {
   "cell_type": "code",
   "execution_count": 1,
   "metadata": {},
   "outputs": [
    {
     "name": "stderr",
     "output_type": "stream",
     "text": [
      "/home/soph/.local/lib/python3.10/site-packages/matplotlib/projections/__init__.py:63: UserWarning: Unable to import Axes3D. This may be due to multiple versions of Matplotlib being installed (e.g. as a system package and as a pip package). As a result, the 3D projection is not available.\n",
      "  warnings.warn(\"Unable to import Axes3D. This may be due to multiple versions of \"\n"
     ]
    }
   ],
   "source": [
    "import pandas as pd\n",
    "import torch\n",
    "import torch.nn as nn\n",
    "import numpy as np\n",
    "import matplotlib.pyplot as plt\n",
    "import seaborn as sns\n",
    "from torch.utils.data import DataLoader, Dataset\n",
    "from sklearn.metrics import accuracy_score, f1_score, confusion_matrix\n"
   ]
  },
  {
   "cell_type": "markdown",
   "metadata": {},
   "source": [
    "## Manipulação dos dados"
   ]
  },
  {
   "cell_type": "code",
   "execution_count": 1,
   "metadata": {},
   "outputs": [
    {
     "name": "stdout",
     "output_type": "stream",
     "text": [
      "--2024-05-10 16:39:01--  https://psi3471.github.io/www/data.zip\n",
      "Resolving psi3471.github.io (psi3471.github.io)... 185.199.108.153, 185.199.109.153, 185.199.110.153, ...\n",
      "Connecting to psi3471.github.io (psi3471.github.io)|185.199.108.153|:443... connected.\n",
      "HTTP request sent, awaiting response... 200 OK\n",
      "Length: 8850 (8,6K) [application/zip]\n",
      "Saving to: ‘data.zip’\n",
      "\n",
      "data.zip            100%[===================>]   8,64K  --.-KB/s    in 0,002s  \n",
      "\n",
      "2024-05-10 16:39:02 (3,68 MB/s) - ‘data.zip’ saved [8850/8850]\n",
      "\n"
     ]
    }
   ],
   "source": [
    "!wget https://psi3471.github.io/www/data.zip"
   ]
  },
  {
   "cell_type": "code",
   "execution_count": 2,
   "metadata": {},
   "outputs": [
    {
     "name": "stdout",
     "output_type": "stream",
     "text": [
      "Archive:  data.zip\n",
      "  inflating: data_test.csv           \n",
      "  inflating: data_train.csv          \n"
     ]
    }
   ],
   "source": [
    "!unzip data.zip"
   ]
  },
  {
   "cell_type": "code",
   "execution_count": 2,
   "metadata": {},
   "outputs": [],
   "source": [
    "data_train = pd.read_csv(\"data_train.csv\").drop(columns=[\"Unnamed: 0\"])\n",
    "data_test = pd.read_csv(\"data_test.csv\").drop(columns=[\"Unnamed: 0\"])"
   ]
  },
  {
   "cell_type": "code",
   "execution_count": 3,
   "metadata": {},
   "outputs": [
    {
     "data": {
      "text/plain": [
       "(800, 14)"
      ]
     },
     "execution_count": 3,
     "metadata": {},
     "output_type": "execute_result"
    }
   ],
   "source": [
    "data_train.shape"
   ]
  },
  {
   "cell_type": "code",
   "execution_count": 4,
   "metadata": {},
   "outputs": [
    {
     "data": {
      "text/plain": [
       "(225, 14)"
      ]
     },
     "execution_count": 4,
     "metadata": {},
     "output_type": "execute_result"
    }
   ],
   "source": [
    "data_test.shape"
   ]
  },
  {
   "cell_type": "code",
   "execution_count": 5,
   "metadata": {},
   "outputs": [
    {
     "data": {
      "text/html": [
       "<div>\n",
       "<style scoped>\n",
       "    .dataframe tbody tr th:only-of-type {\n",
       "        vertical-align: middle;\n",
       "    }\n",
       "\n",
       "    .dataframe tbody tr th {\n",
       "        vertical-align: top;\n",
       "    }\n",
       "\n",
       "    .dataframe thead th {\n",
       "        text-align: right;\n",
       "    }\n",
       "</style>\n",
       "<table border=\"1\" class=\"dataframe\">\n",
       "  <thead>\n",
       "    <tr style=\"text-align: right;\">\n",
       "      <th></th>\n",
       "      <th>0</th>\n",
       "      <th>1</th>\n",
       "      <th>2</th>\n",
       "      <th>3</th>\n",
       "      <th>4</th>\n",
       "      <th>5</th>\n",
       "      <th>6</th>\n",
       "      <th>7</th>\n",
       "      <th>8</th>\n",
       "      <th>9</th>\n",
       "      <th>10</th>\n",
       "      <th>11</th>\n",
       "      <th>12</th>\n",
       "      <th>13</th>\n",
       "    </tr>\n",
       "  </thead>\n",
       "  <tbody>\n",
       "    <tr>\n",
       "      <th>0</th>\n",
       "      <td>52.0</td>\n",
       "      <td>1.0</td>\n",
       "      <td>0.0</td>\n",
       "      <td>125.0</td>\n",
       "      <td>212.0</td>\n",
       "      <td>0.0</td>\n",
       "      <td>1.0</td>\n",
       "      <td>168.0</td>\n",
       "      <td>0.0</td>\n",
       "      <td>1.0</td>\n",
       "      <td>2.0</td>\n",
       "      <td>2.0</td>\n",
       "      <td>3.0</td>\n",
       "      <td>0.0</td>\n",
       "    </tr>\n",
       "    <tr>\n",
       "      <th>1</th>\n",
       "      <td>53.0</td>\n",
       "      <td>1.0</td>\n",
       "      <td>0.0</td>\n",
       "      <td>140.0</td>\n",
       "      <td>203.0</td>\n",
       "      <td>1.0</td>\n",
       "      <td>0.0</td>\n",
       "      <td>155.0</td>\n",
       "      <td>1.0</td>\n",
       "      <td>3.1</td>\n",
       "      <td>0.0</td>\n",
       "      <td>0.0</td>\n",
       "      <td>3.0</td>\n",
       "      <td>0.0</td>\n",
       "    </tr>\n",
       "    <tr>\n",
       "      <th>2</th>\n",
       "      <td>70.0</td>\n",
       "      <td>1.0</td>\n",
       "      <td>0.0</td>\n",
       "      <td>145.0</td>\n",
       "      <td>174.0</td>\n",
       "      <td>0.0</td>\n",
       "      <td>1.0</td>\n",
       "      <td>125.0</td>\n",
       "      <td>1.0</td>\n",
       "      <td>2.6</td>\n",
       "      <td>0.0</td>\n",
       "      <td>0.0</td>\n",
       "      <td>3.0</td>\n",
       "      <td>0.0</td>\n",
       "    </tr>\n",
       "    <tr>\n",
       "      <th>3</th>\n",
       "      <td>61.0</td>\n",
       "      <td>1.0</td>\n",
       "      <td>0.0</td>\n",
       "      <td>148.0</td>\n",
       "      <td>203.0</td>\n",
       "      <td>0.0</td>\n",
       "      <td>1.0</td>\n",
       "      <td>161.0</td>\n",
       "      <td>0.0</td>\n",
       "      <td>0.0</td>\n",
       "      <td>2.0</td>\n",
       "      <td>1.0</td>\n",
       "      <td>3.0</td>\n",
       "      <td>0.0</td>\n",
       "    </tr>\n",
       "    <tr>\n",
       "      <th>4</th>\n",
       "      <td>62.0</td>\n",
       "      <td>0.0</td>\n",
       "      <td>0.0</td>\n",
       "      <td>138.0</td>\n",
       "      <td>294.0</td>\n",
       "      <td>1.0</td>\n",
       "      <td>1.0</td>\n",
       "      <td>106.0</td>\n",
       "      <td>0.0</td>\n",
       "      <td>1.9</td>\n",
       "      <td>1.0</td>\n",
       "      <td>3.0</td>\n",
       "      <td>2.0</td>\n",
       "      <td>0.0</td>\n",
       "    </tr>\n",
       "  </tbody>\n",
       "</table>\n",
       "</div>"
      ],
      "text/plain": [
       "      0    1    2      3      4    5    6      7    8    9   10   11   12   13\n",
       "0  52.0  1.0  0.0  125.0  212.0  0.0  1.0  168.0  0.0  1.0  2.0  2.0  3.0  0.0\n",
       "1  53.0  1.0  0.0  140.0  203.0  1.0  0.0  155.0  1.0  3.1  0.0  0.0  3.0  0.0\n",
       "2  70.0  1.0  0.0  145.0  174.0  0.0  1.0  125.0  1.0  2.6  0.0  0.0  3.0  0.0\n",
       "3  61.0  1.0  0.0  148.0  203.0  0.0  1.0  161.0  0.0  0.0  2.0  1.0  3.0  0.0\n",
       "4  62.0  0.0  0.0  138.0  294.0  1.0  1.0  106.0  0.0  1.9  1.0  3.0  2.0  0.0"
      ]
     },
     "execution_count": 5,
     "metadata": {},
     "output_type": "execute_result"
    }
   ],
   "source": [
    "data_train.head()"
   ]
  },
  {
   "cell_type": "code",
   "execution_count": 6,
   "metadata": {},
   "outputs": [
    {
     "data": {
      "text/html": [
       "<div>\n",
       "<style scoped>\n",
       "    .dataframe tbody tr th:only-of-type {\n",
       "        vertical-align: middle;\n",
       "    }\n",
       "\n",
       "    .dataframe tbody tr th {\n",
       "        vertical-align: top;\n",
       "    }\n",
       "\n",
       "    .dataframe thead th {\n",
       "        text-align: right;\n",
       "    }\n",
       "</style>\n",
       "<table border=\"1\" class=\"dataframe\">\n",
       "  <thead>\n",
       "    <tr style=\"text-align: right;\">\n",
       "      <th></th>\n",
       "      <th>0</th>\n",
       "      <th>1</th>\n",
       "      <th>2</th>\n",
       "      <th>3</th>\n",
       "      <th>4</th>\n",
       "      <th>5</th>\n",
       "      <th>6</th>\n",
       "      <th>7</th>\n",
       "      <th>8</th>\n",
       "      <th>9</th>\n",
       "      <th>10</th>\n",
       "      <th>11</th>\n",
       "      <th>12</th>\n",
       "      <th>13</th>\n",
       "    </tr>\n",
       "  </thead>\n",
       "  <tbody>\n",
       "    <tr>\n",
       "      <th>0</th>\n",
       "      <td>67.0</td>\n",
       "      <td>1.0</td>\n",
       "      <td>0.0</td>\n",
       "      <td>120.0</td>\n",
       "      <td>229.0</td>\n",
       "      <td>0.0</td>\n",
       "      <td>0.0</td>\n",
       "      <td>129.0</td>\n",
       "      <td>1.0</td>\n",
       "      <td>2.6</td>\n",
       "      <td>1.0</td>\n",
       "      <td>2.0</td>\n",
       "      <td>3.0</td>\n",
       "      <td>0.0</td>\n",
       "    </tr>\n",
       "    <tr>\n",
       "      <th>1</th>\n",
       "      <td>63.0</td>\n",
       "      <td>1.0</td>\n",
       "      <td>3.0</td>\n",
       "      <td>145.0</td>\n",
       "      <td>233.0</td>\n",
       "      <td>1.0</td>\n",
       "      <td>0.0</td>\n",
       "      <td>150.0</td>\n",
       "      <td>0.0</td>\n",
       "      <td>2.3</td>\n",
       "      <td>0.0</td>\n",
       "      <td>0.0</td>\n",
       "      <td>1.0</td>\n",
       "      <td>1.0</td>\n",
       "    </tr>\n",
       "    <tr>\n",
       "      <th>2</th>\n",
       "      <td>63.0</td>\n",
       "      <td>0.0</td>\n",
       "      <td>0.0</td>\n",
       "      <td>124.0</td>\n",
       "      <td>197.0</td>\n",
       "      <td>0.0</td>\n",
       "      <td>1.0</td>\n",
       "      <td>136.0</td>\n",
       "      <td>1.0</td>\n",
       "      <td>0.0</td>\n",
       "      <td>1.0</td>\n",
       "      <td>0.0</td>\n",
       "      <td>2.0</td>\n",
       "      <td>0.0</td>\n",
       "    </tr>\n",
       "    <tr>\n",
       "      <th>3</th>\n",
       "      <td>52.0</td>\n",
       "      <td>1.0</td>\n",
       "      <td>0.0</td>\n",
       "      <td>112.0</td>\n",
       "      <td>230.0</td>\n",
       "      <td>0.0</td>\n",
       "      <td>1.0</td>\n",
       "      <td>160.0</td>\n",
       "      <td>0.0</td>\n",
       "      <td>0.0</td>\n",
       "      <td>2.0</td>\n",
       "      <td>1.0</td>\n",
       "      <td>2.0</td>\n",
       "      <td>0.0</td>\n",
       "    </tr>\n",
       "    <tr>\n",
       "      <th>4</th>\n",
       "      <td>58.0</td>\n",
       "      <td>0.0</td>\n",
       "      <td>0.0</td>\n",
       "      <td>130.0</td>\n",
       "      <td>197.0</td>\n",
       "      <td>0.0</td>\n",
       "      <td>1.0</td>\n",
       "      <td>131.0</td>\n",
       "      <td>0.0</td>\n",
       "      <td>0.6</td>\n",
       "      <td>1.0</td>\n",
       "      <td>0.0</td>\n",
       "      <td>2.0</td>\n",
       "      <td>1.0</td>\n",
       "    </tr>\n",
       "  </tbody>\n",
       "</table>\n",
       "</div>"
      ],
      "text/plain": [
       "      0    1    2      3      4    5    6      7    8    9   10   11   12   13\n",
       "0  67.0  1.0  0.0  120.0  229.0  0.0  0.0  129.0  1.0  2.6  1.0  2.0  3.0  0.0\n",
       "1  63.0  1.0  3.0  145.0  233.0  1.0  0.0  150.0  0.0  2.3  0.0  0.0  1.0  1.0\n",
       "2  63.0  0.0  0.0  124.0  197.0  0.0  1.0  136.0  1.0  0.0  1.0  0.0  2.0  0.0\n",
       "3  52.0  1.0  0.0  112.0  230.0  0.0  1.0  160.0  0.0  0.0  2.0  1.0  2.0  0.0\n",
       "4  58.0  0.0  0.0  130.0  197.0  0.0  1.0  131.0  0.0  0.6  1.0  0.0  2.0  1.0"
      ]
     },
     "execution_count": 6,
     "metadata": {},
     "output_type": "execute_result"
    }
   ],
   "source": [
    "data_test.head()"
   ]
  },
  {
   "cell_type": "code",
   "execution_count": 8,
   "metadata": {},
   "outputs": [],
   "source": [
    "X_train, y_train = data_train.iloc[:, :-1].values, data_train.iloc[:, -1].values\n",
    "X_test, y_test = data_test.iloc[:, :-1].values, data_test.iloc[:, -1].values"
   ]
  },
  {
   "cell_type": "code",
   "execution_count": 9,
   "metadata": {},
   "outputs": [],
   "source": [
    "# Normalização\n",
    "X_train = (X_train - X_train.mean(axis=0)) / X_train.std(axis=0)\n",
    "X_test = (X_test - X_train.mean(axis=0)) / X_train.std(axis=0)"
   ]
  },
  {
   "cell_type": "code",
   "execution_count": 10,
   "metadata": {},
   "outputs": [],
   "source": [
    "# Hiperparâmetros\n",
    "# Passo de adaptação (learning rate)\n",
    "eta = 0.001\n",
    "# Tamanho do mini-batch\n",
    "Nb = 80\n",
    "# Número de épocas\n",
    "Ne = 300\n",
    "# Taxa de droput\n",
    "p = 0.3"
   ]
  },
  {
   "cell_type": "code",
   "execution_count": 11,
   "metadata": {},
   "outputs": [],
   "source": [
    "class ExamesDataset(Dataset):\n",
    "    def __init__(self, X, y):\n",
    "        self.X = torch.tensor(X, dtype=torch.float32)\n",
    "        self.y = torch.tensor(y, dtype=torch.float32).view(-1, 1)\n",
    "\n",
    "    def __len__(self):\n",
    "        return len(self.X)\n",
    "\n",
    "    def __getitem__(self, idx):\n",
    "        return self.X[idx], self.y[idx]\n",
    "\n",
    "np.random.seed(20)\n",
    "torch.manual_seed(20)\n",
    "torch.cuda.manual_seed(20)\n",
    "\n",
    "train_dataset = ExamesDataset(X_train, y_train)\n",
    "test_dataset = ExamesDataset(X_test, y_test)\n",
    "train_loader = DataLoader(train_dataset, batch_size=Nb, shuffle=True)\n",
    "test_loader = DataLoader(test_dataset, batch_size=len(test_dataset), shuffle=True)"
   ]
  },
  {
   "cell_type": "markdown",
   "metadata": {},
   "source": [
    "## Rede neural implementada"
   ]
  },
  {
   "cell_type": "code",
   "execution_count": 27,
   "metadata": {},
   "outputs": [],
   "source": [
    "class Model(nn.Module):\n",
    "\n",
    "    def __init__(self):\n",
    "        super().__init__()\n",
    "        \n",
    "        self.model = nn.Sequential(\n",
    "            nn.Linear(13, 26),\n",
    "            nn.ReLU(),\n",
    "            nn.Dropout(p),\n",
    "            \n",
    "            nn.Linear(26, 39),\n",
    "            nn.ReLU(),\n",
    "\n",
    "            nn.Linear(39, 13),\n",
    "            nn.ReLU(),\n",
    "            \n",
    "            nn.Linear(13, 1),\n",
    "            nn.Sigmoid()\n",
    "        )\n",
    "\n",
    "    def forward(self, x):\n",
    "        output = self.model(x)\n",
    "        return output"
   ]
  },
  {
   "cell_type": "code",
   "execution_count": 45,
   "metadata": {},
   "outputs": [],
   "source": [
    "device = torch.device(\"cuda:0\" if torch.cuda.is_available() else \"cpu\")\n",
    "model = Model().to(device)\n",
    "\n",
    "optimizer = torch.optim.Adam(model.parameters(), lr=eta) \n",
    "loss_function = nn.BCELoss()"
   ]
  },
  {
   "cell_type": "markdown",
   "metadata": {},
   "source": [
    "### Treinamento"
   ]
  },
  {
   "cell_type": "code",
   "execution_count": 46,
   "metadata": {},
   "outputs": [
    {
     "name": "stdout",
     "output_type": "stream",
     "text": [
      "Epoch 10/300, Train Loss: 0.3759, Validation Loss: 0.4483, Accuracy: 0.79\n",
      "Epoch 20/300, Train Loss: 0.3044, Validation Loss: 0.4222, Accuracy: 0.81\n",
      "Epoch 30/300, Train Loss: 0.2681, Validation Loss: 0.3915, Accuracy: 0.84\n",
      "Epoch 40/300, Train Loss: 0.2622, Validation Loss: 0.3785, Accuracy: 0.84\n",
      "Epoch 50/300, Train Loss: 0.2525, Validation Loss: 0.3634, Accuracy: 0.84\n",
      "Epoch 60/300, Train Loss: 0.2463, Validation Loss: 0.3466, Accuracy: 0.85\n",
      "Epoch 70/300, Train Loss: 0.2404, Validation Loss: 0.3317, Accuracy: 0.88\n",
      "Epoch 80/300, Train Loss: 0.2202, Validation Loss: 0.3093, Accuracy: 0.88\n",
      "Epoch 90/300, Train Loss: 0.2063, Validation Loss: 0.2793, Accuracy: 0.89\n",
      "Epoch 100/300, Train Loss: 0.1786, Validation Loss: 0.2630, Accuracy: 0.88\n",
      "Epoch 110/300, Train Loss: 0.1799, Validation Loss: 0.2414, Accuracy: 0.89\n",
      "Epoch 120/300, Train Loss: 0.1520, Validation Loss: 0.2388, Accuracy: 0.90\n",
      "Epoch 130/300, Train Loss: 0.1383, Validation Loss: 0.2191, Accuracy: 0.91\n",
      "Epoch 140/300, Train Loss: 0.1315, Validation Loss: 0.2051, Accuracy: 0.94\n",
      "Epoch 150/300, Train Loss: 0.1274, Validation Loss: 0.1982, Accuracy: 0.94\n",
      "Epoch 160/300, Train Loss: 0.1115, Validation Loss: 0.1872, Accuracy: 0.95\n",
      "Epoch 170/300, Train Loss: 0.0915, Validation Loss: 0.1831, Accuracy: 0.95\n",
      "Epoch 180/300, Train Loss: 0.0924, Validation Loss: 0.1790, Accuracy: 0.96\n",
      "Epoch 190/300, Train Loss: 0.0990, Validation Loss: 0.1709, Accuracy: 0.95\n",
      "Epoch 200/300, Train Loss: 0.0937, Validation Loss: 0.1708, Accuracy: 0.94\n",
      "Epoch 210/300, Train Loss: 0.0782, Validation Loss: 0.1521, Accuracy: 0.97\n",
      "Epoch 220/300, Train Loss: 0.0782, Validation Loss: 0.1591, Accuracy: 0.96\n",
      "Epoch 230/300, Train Loss: 0.0822, Validation Loss: 0.1668, Accuracy: 0.96\n",
      "Epoch 240/300, Train Loss: 0.0841, Validation Loss: 0.1569, Accuracy: 0.97\n",
      "Epoch 250/300, Train Loss: 0.0610, Validation Loss: 0.1669, Accuracy: 0.97\n",
      "Epoch 260/300, Train Loss: 0.0526, Validation Loss: 0.1688, Accuracy: 0.97\n",
      "Epoch 270/300, Train Loss: 0.0692, Validation Loss: 0.1658, Accuracy: 0.97\n",
      "Epoch 280/300, Train Loss: 0.0492, Validation Loss: 0.1630, Accuracy: 0.97\n",
      "Epoch 290/300, Train Loss: 0.0434, Validation Loss: 0.1614, Accuracy: 0.98\n",
      "Epoch 300/300, Train Loss: 0.0624, Validation Loss: 0.1692, Accuracy: 0.98\n"
     ]
    }
   ],
   "source": [
    "train_losses = []\n",
    "val_losses = []\n",
    "accuracies = []\n",
    "\n",
    "for epoch in range(Ne):\n",
    "    model.train()\n",
    "    train_loss = 0.0\n",
    "    for inputs, targets in train_loader:\n",
    "        inputs = inputs.to(device)\n",
    "        targets = targets.to(device)\n",
    "        optimizer.zero_grad()\n",
    "        outputs = model(inputs)\n",
    "        loss = loss_function(outputs, targets)\n",
    "        loss.backward()\n",
    "        optimizer.step()\n",
    "        train_loss += loss.item() * inputs.size(0)\n",
    "    train_loss /= len(train_loader.dataset)\n",
    "    train_losses.append(train_loss)\n",
    "\n",
    "    model.eval()\n",
    "    with torch.no_grad():\n",
    "        for inputs, targets in test_loader:\n",
    "            inputs = inputs.to(device)\n",
    "            targets = targets.to(device)\n",
    "            outputs = model(inputs)\n",
    "            predictions = (outputs >= 0.5).float()\n",
    "            cm_train = confusion_matrix(targets.cpu(), predictions.cpu())\n",
    "            accuracy = accuracy_score(targets.cpu(), predictions.cpu())\n",
    "            accuracies.append(accuracy)\n",
    "        valid_loss = loss_function(outputs, targets)\n",
    "        val_losses.append(valid_loss.item())\n",
    "            \n",
    "    if (epoch+1) % 10 == 0:\n",
    "        print(f'Epoch {epoch+1}/{Ne}, Train Loss: {train_loss:.4f}, Validation Loss: {valid_loss:.4f}, Accuracy: {accuracy:.2f}')"
   ]
  },
  {
   "cell_type": "code",
   "execution_count": 47,
   "metadata": {},
   "outputs": [
    {
     "data": {
      "image/png": "[encoded data removed]",
      "text/plain": [
       "<Figure size 640x480 with 1 Axes>"
      ]
     },
     "metadata": {},
     "output_type": "display_data"
    }
   ],
   "source": [
    "plt.plot(range(1, Ne+1), train_losses, label='Train Loss')\n",
    "plt.plot(range(1, Ne+1), val_losses, label='Valid Loss')\n",
    "plt.xlabel('Epoch')\n",
    "plt.ylabel('Loss')\n",
    "plt.legend()\n",
    "plt.show()"
   ]
  },
  {
   "cell_type": "markdown",
   "metadata": {},
   "source": [
    "### Validação"
   ]
  },
  {
   "cell_type": "code",
   "execution_count": 48,
   "metadata": {},
   "outputs": [
    {
     "name": "stdout",
     "output_type": "stream",
     "text": [
      "Accuracy: 0.98\n",
      "F1 Score: 0.98\n"
     ]
    }
   ],
   "source": [
    "model.eval()\n",
    "with torch.no_grad():\n",
    "    for inputs, targets in test_loader:\n",
    "        inputs = inputs.to(device)\n",
    "        targets = targets.to(device)\n",
    "        outputs = model(inputs)\n",
    "        predictions = (outputs >= 0.5).float()\n",
    "        accuracy = accuracy_score(targets.cpu(), predictions.cpu())\n",
    "        f1 = f1_score(targets.cpu(), predictions.cpu())\n",
    "        cm = confusion_matrix(targets.cpu(), predictions.cpu())\n",
    "\n",
    "print(f'Accuracy: {accuracy:.2f}')\n",
    "print(f'F1 Score: {f1:.2f}')"
   ]
  },
  {
   "cell_type": "code",
   "execution_count": 41,
   "metadata": {},
   "outputs": [],
   "source": [
    "def show_confusion_matrix(confusion_matrix):\n",
    "  hmap = sns.heatmap(confusion_matrix, annot=True, fmt=\"d\", cmap=\"Blues\")\n",
    "  hmap.yaxis.set_ticklabels(hmap.yaxis.get_ticklabels(), rotation=0, ha='right')\n",
    "  hmap.xaxis.set_ticklabels(hmap.xaxis.get_ticklabels(), rotation=0, ha='right')\n",
    "  plt.ylabel('Rótulo verdadeiro')\n",
    "  plt.xlabel('Rótulo previsto');"
   ]
  },
  {
   "cell_type": "code",
   "execution_count": 49,
   "metadata": {},
   "outputs": [
    {
     "data": {
      "image/png": "[encoded data removed]",
      "text/plain": [
       "<Figure size 640x480 with 2 Axes>"
      ]
     },
     "metadata": {},
     "output_type": "display_data"
    }
   ],
   "source": [
    "show_confusion_matrix(cm)"
   ]
  },
  {
   "cell_type": "code",
   "execution_count": 50,
   "metadata": {},
   "outputs": [],
   "source": [
    "torch.save(model.state_dict(), \"./model01.pt\")"
   ]
  },
  {
   "cell_type": "markdown",
   "metadata": {},
   "source": [
    "## Modelo de regressão logística"
   ]
  },
  {
   "cell_type": "code",
   "execution_count": 51,
   "metadata": {},
   "outputs": [],
   "source": [
    "class LogisticRegression(nn.Module):\n",
    "    def __init__(self, input_size):\n",
    "        super(LogisticRegression, self).__init__()\n",
    "        self.linear = nn.Linear(input_size, 1)\n",
    "        self.sigmoid = nn.Sigmoid()\n",
    "\n",
    "    def forward(self, x):\n",
    "        return self.sigmoid(self.linear(x))"
   ]
  },
  {
   "cell_type": "code",
   "execution_count": 52,
   "metadata": {},
   "outputs": [],
   "source": [
    "device = torch.device(\"cuda:0\" if torch.cuda.is_available() else \"cpu\")\n",
    "reg_model = LogisticRegression(input_size=X_train.shape[1]).to(device)\n",
    "\n",
    "optimizer = torch.optim.Adam(reg_model.parameters(), lr=eta) \n",
    "loss_function = nn.BCELoss()"
   ]
  },
  {
   "cell_type": "markdown",
   "metadata": {},
   "source": [
    "### Treinamento"
   ]
  },
  {
   "cell_type": "code",
   "execution_count": 53,
   "metadata": {},
   "outputs": [
    {
     "name": "stdout",
     "output_type": "stream",
     "text": [
      "Epoch 10/300, Train Loss: 0.5322, Validation Loss: 0.5654, Accuracy: 0.71\n",
      "Epoch 20/300, Train Loss: 0.4646, Validation Loss: 0.5131, Accuracy: 0.77\n",
      "Epoch 30/300, Train Loss: 0.4249, Validation Loss: 0.4832, Accuracy: 0.79\n",
      "Epoch 40/300, Train Loss: 0.3993, Validation Loss: 0.4650, Accuracy: 0.79\n",
      "Epoch 50/300, Train Loss: 0.3816, Validation Loss: 0.4536, Accuracy: 0.80\n",
      "Epoch 60/300, Train Loss: 0.3690, Validation Loss: 0.4462, Accuracy: 0.80\n",
      "Epoch 70/300, Train Loss: 0.3596, Validation Loss: 0.4415, Accuracy: 0.80\n",
      "Epoch 80/300, Train Loss: 0.3524, Validation Loss: 0.4386, Accuracy: 0.80\n",
      "Epoch 90/300, Train Loss: 0.3468, Validation Loss: 0.4369, Accuracy: 0.80\n",
      "Epoch 100/300, Train Loss: 0.3425, Validation Loss: 0.4361, Accuracy: 0.80\n",
      "Epoch 110/300, Train Loss: 0.3391, Validation Loss: 0.4358, Accuracy: 0.80\n",
      "Epoch 120/300, Train Loss: 0.3363, Validation Loss: 0.4360, Accuracy: 0.80\n",
      "Epoch 130/300, Train Loss: 0.3341, Validation Loss: 0.4364, Accuracy: 0.80\n",
      "Epoch 140/300, Train Loss: 0.3323, Validation Loss: 0.4371, Accuracy: 0.80\n",
      "Epoch 150/300, Train Loss: 0.3308, Validation Loss: 0.4379, Accuracy: 0.80\n",
      "Epoch 160/300, Train Loss: 0.3296, Validation Loss: 0.4388, Accuracy: 0.80\n",
      "Epoch 170/300, Train Loss: 0.3286, Validation Loss: 0.4398, Accuracy: 0.80\n",
      "Epoch 180/300, Train Loss: 0.3278, Validation Loss: 0.4407, Accuracy: 0.80\n",
      "Epoch 190/300, Train Loss: 0.3272, Validation Loss: 0.4418, Accuracy: 0.79\n",
      "Epoch 200/300, Train Loss: 0.3267, Validation Loss: 0.4427, Accuracy: 0.80\n",
      "Epoch 210/300, Train Loss: 0.3263, Validation Loss: 0.4436, Accuracy: 0.80\n",
      "Epoch 220/300, Train Loss: 0.3259, Validation Loss: 0.4445, Accuracy: 0.80\n",
      "Epoch 230/300, Train Loss: 0.3256, Validation Loss: 0.4454, Accuracy: 0.80\n",
      "Epoch 240/300, Train Loss: 0.3254, Validation Loss: 0.4462, Accuracy: 0.80\n",
      "Epoch 250/300, Train Loss: 0.3252, Validation Loss: 0.4470, Accuracy: 0.80\n",
      "Epoch 260/300, Train Loss: 0.3250, Validation Loss: 0.4478, Accuracy: 0.80\n",
      "Epoch 270/300, Train Loss: 0.3249, Validation Loss: 0.4484, Accuracy: 0.80\n",
      "Epoch 280/300, Train Loss: 0.3248, Validation Loss: 0.4489, Accuracy: 0.80\n",
      "Epoch 290/300, Train Loss: 0.3247, Validation Loss: 0.4497, Accuracy: 0.80\n",
      "Epoch 300/300, Train Loss: 0.3247, Validation Loss: 0.4501, Accuracy: 0.80\n"
     ]
    }
   ],
   "source": [
    "train_losses = []\n",
    "val_losses = []\n",
    "accuracies = []\n",
    "\n",
    "for epoch in range(Ne):\n",
    "    reg_model.train()\n",
    "    train_loss = 0.0\n",
    "    for inputs, targets in train_loader:\n",
    "        inputs = inputs.to(device)\n",
    "        targets = targets.to(device)\n",
    "        optimizer.zero_grad()\n",
    "        outputs = reg_model(inputs)\n",
    "        loss = loss_function(outputs, targets)\n",
    "        loss.backward()\n",
    "        optimizer.step()\n",
    "        train_loss += loss.item() * inputs.size(0)\n",
    "    train_loss /= len(train_loader.dataset)\n",
    "    train_losses.append(train_loss)\n",
    "\n",
    "    reg_model.eval()\n",
    "    with torch.no_grad():\n",
    "        for inputs, targets in test_loader:\n",
    "            inputs = inputs.to(device)\n",
    "            targets = targets.to(device)\n",
    "            outputs = reg_model(inputs)\n",
    "            predictions = (outputs >= 0.5).float()\n",
    "            cm_train = confusion_matrix(targets.cpu(), predictions.cpu())\n",
    "            accuracy = accuracy_score(targets.cpu(), predictions.cpu())\n",
    "            accuracies.append(accuracy)\n",
    "        valid_loss = loss_function(outputs, targets)\n",
    "        val_losses.append(valid_loss.item())\n",
    "            \n",
    "    if (epoch+1) % 10 == 0:\n",
    "        print(f'Epoch {epoch+1}/{Ne}, Train Loss: {train_loss:.4f}, Validation Loss: {valid_loss:.4f}, Accuracy: {accuracy:.2f}')"
   ]
  },
  {
   "cell_type": "code",
   "execution_count": 54,
   "metadata": {},
   "outputs": [
    {
     "data": {
      "image/png": "[encoded data removed]",
      "text/plain": [
       "<Figure size 640x480 with 1 Axes>"
      ]
     },
     "metadata": {},
     "output_type": "display_data"
    }
   ],
   "source": [
    "plt.plot(range(1, Ne+1), train_losses, label='Train Loss')\n",
    "plt.plot(range(1, Ne+1), val_losses, label='Valid Loss')\n",
    "plt.xlabel('Epoch')\n",
    "plt.ylabel('Loss')\n",
    "plt.legend()\n",
    "plt.show()"
   ]
  },
  {
   "cell_type": "markdown",
   "metadata": {},
   "source": [
    "### Validação"
   ]
  },
  {
   "cell_type": "code",
   "execution_count": 55,
   "metadata": {},
   "outputs": [
    {
     "name": "stdout",
     "output_type": "stream",
     "text": [
      "Accuracy: 0.80\n",
      "F1 Score: 0.81\n"
     ]
    }
   ],
   "source": [
    "reg_model.eval()\n",
    "with torch.no_grad():\n",
    "    for inputs, targets in test_loader:\n",
    "        inputs = inputs.to(device)\n",
    "        targets = targets.to(device)\n",
    "        outputs = reg_model(inputs)\n",
    "        predictions = (outputs >= 0.5).float()\n",
    "        accuracy = accuracy_score(targets.cpu(), predictions.cpu())\n",
    "        f1 = f1_score(targets.cpu(), predictions.cpu())\n",
    "        cm = confusion_matrix(targets.cpu(), predictions.cpu())\n",
    "\n",
    "print(f'Accuracy: {accuracy:.2f}')\n",
    "print(f'F1 Score: {f1:.2f}')"
   ]
  },
  {
   "cell_type": "code",
   "execution_count": 56,
   "metadata": {},
   "outputs": [
    {
     "data": {
      "image/png": "[encoded data removed]",
      "text/plain": [
       "<Figure size 640x480 with 2 Axes>"
      ]
     },
     "metadata": {},
     "output_type": "display_data"
    }
   ],
   "source": [
    "show_confusion_matrix(cm)"
   ]
  },
  {
   "cell_type": "code",
   "execution_count": 57,
   "metadata": {},
   "outputs": [],
   "source": [
    "torch.save(model.state_dict(), \"./model_logreg.pt\")"
   ]
  },
  {
   "cell_type": "markdown",
   "metadata": {},
   "source": [
    "## Conclusão"
   ]
  },
  {
   "cell_type": "markdown",
   "metadata": {},
   "source": [
    "A comparação do modelo de MLP com 4 camadas com o modelo de regressão logística mostra que a rede MLP atingiu acurácia e F1 score superiores. Além disso, o treinamento de ambos os modelos mostrou como a perda da rede de MLP atinge valor menor do que no caso do treinamento da rede de regressão logística, embora a MLP precise de mais épocas para que o valor de perda se estabilize."
   ]
  }
 ],
 "metadata": {
  "kernelspec": {
   "display_name": "Python 3",
   "language": "python",
   "name": "python3"
  },
  "language_info": {
   "codemirror_mode": {
    "name": "ipython",
    "version": 3
   },
   "file_extension": ".py",
   "mimetype": "text/x-python",
   "name": "python",
   "nbconvert_exporter": "python",
   "pygments_lexer": "ipython3",
   "version": "3.10.12"
  }
 },
 "nbformat": 4,
 "nbformat_minor": 2
}
